{
 "cells": [
  {
   "cell_type": "markdown",
   "id": "f36ec744-5e72-4cf9-9136-b892c0b13a8d",
   "metadata": {},
   "source": [
    "#                                             ***DataScienceEcosystem.ipynb***"
   ]
  },
  {
   "cell_type": "markdown",
   "id": "d3287cd4-a9a0-4fe9-84e4-493d6b7f26df",
   "metadata": {},
   "source": [
    "# Data Science Tools and Ecosystem"
   ]
  },
  {
   "cell_type": "markdown",
   "id": "8494c49e-7458-424e-89ec-6491d1004c4b",
   "metadata": {},
   "source": [
    "***In this notebook, Data Science Tools and Ecosystem are summarized.***"
   ]
  },
  {
   "cell_type": "markdown",
   "id": "288529b4-8a00-4b9e-b8a3-1279632d5fed",
   "metadata": {},
   "source": [
    "**Objectives:**\n",
    "* List popular languages for Data Science.\n",
    "* List popular libraries for Data Science.\n",
    "* List popular open source tools for Data Science."
   ]
  },
  {
   "cell_type": "markdown",
   "id": "705a8e5a-882a-45ee-a341-d4ab9bf8a400",
   "metadata": {},
   "source": [
    "***Some of the popular languages that Data Scientists use are:***\n",
    "1. *Python*\n",
    "2. *R*\n",
    "3. *Java*t"
   ]
  },
  {
   "cell_type": "markdown",
   "id": "9d0e3bab-20ae-4b1e-bfcd-5cb5c92110d3",
   "metadata": {},
   "source": [
    "***Some of the commonly used libraries used by **Data Scientists include:***\n",
    "1. *Pandas*\n",
    "2. *Numpy*\n",
    "3. *Tensorflow*"
   ]
  },
  {
   "cell_type": "markdown",
   "id": "d1b80d75-829e-47d2-ab79-63159e36e267",
   "metadata": {},
   "source": [
    "| Data Science Tools |\n",
    "| ------------------ |\n",
    "| Apache Spark |\n",
    "| Apache Nifi | \n",
    "| Apache Kafka |\n"
   ]
  },
  {
   "cell_type": "markdown",
   "id": "9623f6ab-314c-49e6-8f8d-939807c1964b",
   "metadata": {},
   "source": [
    "### Below are a few examples of evaluating arithmetic expressions in Python."
   ]
  },
  {
   "cell_type": "code",
   "execution_count": 2,
   "id": "2298cf9a-bf42-4967-8336-2c8f315a154b",
   "metadata": {},
   "outputs": [
    {
     "data": {
      "text/plain": [
       "17"
      ]
     },
     "execution_count": 2,
     "metadata": {},
     "output_type": "execute_result"
    }
   ],
   "source": [
    "# This a simple arithmetic expression to mutiply then add integers.\n",
    "(3*4)+5"
   ]
  },
  {
   "cell_type": "code",
   "execution_count": 4,
   "id": "a59370fa-0add-4af9-87c9-8cc48709c19d",
   "metadata": {},
   "outputs": [
    {
     "name": "stdout",
     "output_type": "stream",
     "text": [
      "3.3333333333333335\n"
     ]
    }
   ],
   "source": [
    "# This will convert 200 minutes to hours by diving by 60\n",
    "total = 200 / 60;\n",
    "print(total);"
   ]
  },
  {
   "cell_type": "markdown",
   "id": "b0b910df-a410-4861-8109-76c1426b019b",
   "metadata": {},
   "source": [
    "## Author\n",
    "Munib Ahmad"
   ]
  },
  {
   "cell_type": "code",
   "execution_count": null,
   "id": "2d871c6b-4bb3-4e6d-b0e7-1ccdd89eec47",
   "metadata": {},
   "outputs": [],
   "source": []
  }
 ],
 "metadata": {
  "kernelspec": {
   "display_name": "Python 3 (ipykernel)",
   "language": "python",
   "name": "python3"
  },
  "language_info": {
   "codemirror_mode": {
    "name": "ipython",
    "version": 3
   },
   "file_extension": ".py",
   "mimetype": "text/x-python",
   "name": "python",
   "nbconvert_exporter": "python",
   "pygments_lexer": "ipython3",
   "version": "3.11.9"
  }
 },
 "nbformat": 4,
 "nbformat_minor": 5
}
